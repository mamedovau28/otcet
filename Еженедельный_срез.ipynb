{
  "nbformat": 4,
  "nbformat_minor": 0,
  "metadata": {
    "colab": {
      "provenance": []
    },
    "kernelspec": {
      "name": "python3",
      "display_name": "Python 3"
    },
    "language_info": {
      "name": "python"
    }
  },
  "cells": [
    {
      "cell_type": "code",
      "execution_count": null,
      "metadata": {
        "id": "M_xYS4u4tdC5"
      },
      "outputs": [],
      "source": [
        "import pandas as pd\n",
        "import numpy as np\n",
        "import re"
      ]
    },
    {
      "cell_type": "code",
      "source": [
        "from google.colab import files\n",
        "uploaded = files.upload()"
      ],
      "metadata": {
        "colab": {
          "base_uri": "https://localhost:8080/",
          "height": 325
        },
        "id": "3K3e4HRFlM2Z",
        "outputId": "7c16ef3c-9570-4aca-f435-bce15a45b461"
      },
      "execution_count": null,
      "outputs": [
        {
          "output_type": "display_data",
          "data": {
            "text/plain": [
              "<IPython.core.display.HTML object>"
            ],
            "text/html": [
              "\n",
              "     <input type=\"file\" id=\"files-6fed155b-4244-4c83-b011-ab383f61f4e5\" name=\"files[]\" multiple disabled\n",
              "        style=\"border:none\" />\n",
              "     <output id=\"result-6fed155b-4244-4c83-b011-ab383f61f4e5\">\n",
              "      Upload widget is only available when the cell has been executed in the\n",
              "      current browser session. Please rerun this cell to enable.\n",
              "      </output>\n",
              "      <script>// Copyright 2017 Google LLC\n",
              "//\n",
              "// Licensed under the Apache License, Version 2.0 (the \"License\");\n",
              "// you may not use this file except in compliance with the License.\n",
              "// You may obtain a copy of the License at\n",
              "//\n",
              "//      http://www.apache.org/licenses/LICENSE-2.0\n",
              "//\n",
              "// Unless required by applicable law or agreed to in writing, software\n",
              "// distributed under the License is distributed on an \"AS IS\" BASIS,\n",
              "// WITHOUT WARRANTIES OR CONDITIONS OF ANY KIND, either express or implied.\n",
              "// See the License for the specific language governing permissions and\n",
              "// limitations under the License.\n",
              "\n",
              "/**\n",
              " * @fileoverview Helpers for google.colab Python module.\n",
              " */\n",
              "(function(scope) {\n",
              "function span(text, styleAttributes = {}) {\n",
              "  const element = document.createElement('span');\n",
              "  element.textContent = text;\n",
              "  for (const key of Object.keys(styleAttributes)) {\n",
              "    element.style[key] = styleAttributes[key];\n",
              "  }\n",
              "  return element;\n",
              "}\n",
              "\n",
              "// Max number of bytes which will be uploaded at a time.\n",
              "const MAX_PAYLOAD_SIZE = 100 * 1024;\n",
              "\n",
              "function _uploadFiles(inputId, outputId) {\n",
              "  const steps = uploadFilesStep(inputId, outputId);\n",
              "  const outputElement = document.getElementById(outputId);\n",
              "  // Cache steps on the outputElement to make it available for the next call\n",
              "  // to uploadFilesContinue from Python.\n",
              "  outputElement.steps = steps;\n",
              "\n",
              "  return _uploadFilesContinue(outputId);\n",
              "}\n",
              "\n",
              "// This is roughly an async generator (not supported in the browser yet),\n",
              "// where there are multiple asynchronous steps and the Python side is going\n",
              "// to poll for completion of each step.\n",
              "// This uses a Promise to block the python side on completion of each step,\n",
              "// then passes the result of the previous step as the input to the next step.\n",
              "function _uploadFilesContinue(outputId) {\n",
              "  const outputElement = document.getElementById(outputId);\n",
              "  const steps = outputElement.steps;\n",
              "\n",
              "  const next = steps.next(outputElement.lastPromiseValue);\n",
              "  return Promise.resolve(next.value.promise).then((value) => {\n",
              "    // Cache the last promise value to make it available to the next\n",
              "    // step of the generator.\n",
              "    outputElement.lastPromiseValue = value;\n",
              "    return next.value.response;\n",
              "  });\n",
              "}\n",
              "\n",
              "/**\n",
              " * Generator function which is called between each async step of the upload\n",
              " * process.\n",
              " * @param {string} inputId Element ID of the input file picker element.\n",
              " * @param {string} outputId Element ID of the output display.\n",
              " * @return {!Iterable<!Object>} Iterable of next steps.\n",
              " */\n",
              "function* uploadFilesStep(inputId, outputId) {\n",
              "  const inputElement = document.getElementById(inputId);\n",
              "  inputElement.disabled = false;\n",
              "\n",
              "  const outputElement = document.getElementById(outputId);\n",
              "  outputElement.innerHTML = '';\n",
              "\n",
              "  const pickedPromise = new Promise((resolve) => {\n",
              "    inputElement.addEventListener('change', (e) => {\n",
              "      resolve(e.target.files);\n",
              "    });\n",
              "  });\n",
              "\n",
              "  const cancel = document.createElement('button');\n",
              "  inputElement.parentElement.appendChild(cancel);\n",
              "  cancel.textContent = 'Cancel upload';\n",
              "  const cancelPromise = new Promise((resolve) => {\n",
              "    cancel.onclick = () => {\n",
              "      resolve(null);\n",
              "    };\n",
              "  });\n",
              "\n",
              "  // Wait for the user to pick the files.\n",
              "  const files = yield {\n",
              "    promise: Promise.race([pickedPromise, cancelPromise]),\n",
              "    response: {\n",
              "      action: 'starting',\n",
              "    }\n",
              "  };\n",
              "\n",
              "  cancel.remove();\n",
              "\n",
              "  // Disable the input element since further picks are not allowed.\n",
              "  inputElement.disabled = true;\n",
              "\n",
              "  if (!files) {\n",
              "    return {\n",
              "      response: {\n",
              "        action: 'complete',\n",
              "      }\n",
              "    };\n",
              "  }\n",
              "\n",
              "  for (const file of files) {\n",
              "    const li = document.createElement('li');\n",
              "    li.append(span(file.name, {fontWeight: 'bold'}));\n",
              "    li.append(span(\n",
              "        `(${file.type || 'n/a'}) - ${file.size} bytes, ` +\n",
              "        `last modified: ${\n",
              "            file.lastModifiedDate ? file.lastModifiedDate.toLocaleDateString() :\n",
              "                                    'n/a'} - `));\n",
              "    const percent = span('0% done');\n",
              "    li.appendChild(percent);\n",
              "\n",
              "    outputElement.appendChild(li);\n",
              "\n",
              "    const fileDataPromise = new Promise((resolve) => {\n",
              "      const reader = new FileReader();\n",
              "      reader.onload = (e) => {\n",
              "        resolve(e.target.result);\n",
              "      };\n",
              "      reader.readAsArrayBuffer(file);\n",
              "    });\n",
              "    // Wait for the data to be ready.\n",
              "    let fileData = yield {\n",
              "      promise: fileDataPromise,\n",
              "      response: {\n",
              "        action: 'continue',\n",
              "      }\n",
              "    };\n",
              "\n",
              "    // Use a chunked sending to avoid message size limits. See b/62115660.\n",
              "    let position = 0;\n",
              "    do {\n",
              "      const length = Math.min(fileData.byteLength - position, MAX_PAYLOAD_SIZE);\n",
              "      const chunk = new Uint8Array(fileData, position, length);\n",
              "      position += length;\n",
              "\n",
              "      const base64 = btoa(String.fromCharCode.apply(null, chunk));\n",
              "      yield {\n",
              "        response: {\n",
              "          action: 'append',\n",
              "          file: file.name,\n",
              "          data: base64,\n",
              "        },\n",
              "      };\n",
              "\n",
              "      let percentDone = fileData.byteLength === 0 ?\n",
              "          100 :\n",
              "          Math.round((position / fileData.byteLength) * 100);\n",
              "      percent.textContent = `${percentDone}% done`;\n",
              "\n",
              "    } while (position < fileData.byteLength);\n",
              "  }\n",
              "\n",
              "  // All done.\n",
              "  yield {\n",
              "    response: {\n",
              "      action: 'complete',\n",
              "    }\n",
              "  };\n",
              "}\n",
              "\n",
              "scope.google = scope.google || {};\n",
              "scope.google.colab = scope.google.colab || {};\n",
              "scope.google.colab._files = {\n",
              "  _uploadFiles,\n",
              "  _uploadFilesContinue,\n",
              "};\n",
              "})(self);\n",
              "</script> "
            ]
          },
          "metadata": {}
        },
        {
          "output_type": "error",
          "ename": "KeyboardInterrupt",
          "evalue": "",
          "traceback": [
            "\u001b[0;31m---------------------------------------------------------------------------\u001b[0m",
            "\u001b[0;31mKeyboardInterrupt\u001b[0m                         Traceback (most recent call last)",
            "\u001b[0;32m<ipython-input-118-21dc3c638f66>\u001b[0m in \u001b[0;36m<cell line: 0>\u001b[0;34m()\u001b[0m\n\u001b[1;32m      1\u001b[0m \u001b[0;32mfrom\u001b[0m \u001b[0mgoogle\u001b[0m\u001b[0;34m.\u001b[0m\u001b[0mcolab\u001b[0m \u001b[0;32mimport\u001b[0m \u001b[0mfiles\u001b[0m\u001b[0;34m\u001b[0m\u001b[0;34m\u001b[0m\u001b[0m\n\u001b[0;32m----> 2\u001b[0;31m \u001b[0muploaded\u001b[0m \u001b[0;34m=\u001b[0m \u001b[0mfiles\u001b[0m\u001b[0;34m.\u001b[0m\u001b[0mupload\u001b[0m\u001b[0;34m(\u001b[0m\u001b[0;34m)\u001b[0m\u001b[0;34m\u001b[0m\u001b[0;34m\u001b[0m\u001b[0m\n\u001b[0m",
            "\u001b[0;32m/usr/local/lib/python3.11/dist-packages/google/colab/files.py\u001b[0m in \u001b[0;36mupload\u001b[0;34m(target_dir)\u001b[0m\n\u001b[1;32m     70\u001b[0m   \"\"\"\n\u001b[1;32m     71\u001b[0m \u001b[0;34m\u001b[0m\u001b[0m\n\u001b[0;32m---> 72\u001b[0;31m   \u001b[0muploaded_files\u001b[0m \u001b[0;34m=\u001b[0m \u001b[0m_upload_files\u001b[0m\u001b[0;34m(\u001b[0m\u001b[0mmultiple\u001b[0m\u001b[0;34m=\u001b[0m\u001b[0;32mTrue\u001b[0m\u001b[0;34m)\u001b[0m\u001b[0;34m\u001b[0m\u001b[0;34m\u001b[0m\u001b[0m\n\u001b[0m\u001b[1;32m     73\u001b[0m   \u001b[0;31m# Mapping from original filename to filename as saved locally.\u001b[0m\u001b[0;34m\u001b[0m\u001b[0;34m\u001b[0m\u001b[0m\n\u001b[1;32m     74\u001b[0m   \u001b[0mlocal_filenames\u001b[0m \u001b[0;34m=\u001b[0m \u001b[0mdict\u001b[0m\u001b[0;34m(\u001b[0m\u001b[0;34m)\u001b[0m\u001b[0;34m\u001b[0m\u001b[0;34m\u001b[0m\u001b[0m\n",
            "\u001b[0;32m/usr/local/lib/python3.11/dist-packages/google/colab/files.py\u001b[0m in \u001b[0;36m_upload_files\u001b[0;34m(multiple)\u001b[0m\n\u001b[1;32m    162\u001b[0m \u001b[0;34m\u001b[0m\u001b[0m\n\u001b[1;32m    163\u001b[0m   \u001b[0;31m# First result is always an indication that the file picker has completed.\u001b[0m\u001b[0;34m\u001b[0m\u001b[0;34m\u001b[0m\u001b[0m\n\u001b[0;32m--> 164\u001b[0;31m   result = _output.eval_js(\n\u001b[0m\u001b[1;32m    165\u001b[0m       'google.colab._files._uploadFiles(\"{input_id}\", \"{output_id}\")'.format(\n\u001b[1;32m    166\u001b[0m           \u001b[0minput_id\u001b[0m\u001b[0;34m=\u001b[0m\u001b[0minput_id\u001b[0m\u001b[0;34m,\u001b[0m \u001b[0moutput_id\u001b[0m\u001b[0;34m=\u001b[0m\u001b[0moutput_id\u001b[0m\u001b[0;34m\u001b[0m\u001b[0;34m\u001b[0m\u001b[0m\n",
            "\u001b[0;32m/usr/local/lib/python3.11/dist-packages/google/colab/output/_js.py\u001b[0m in \u001b[0;36meval_js\u001b[0;34m(script, ignore_result, timeout_sec)\u001b[0m\n\u001b[1;32m     38\u001b[0m   \u001b[0;32mif\u001b[0m \u001b[0mignore_result\u001b[0m\u001b[0;34m:\u001b[0m\u001b[0;34m\u001b[0m\u001b[0;34m\u001b[0m\u001b[0m\n\u001b[1;32m     39\u001b[0m     \u001b[0;32mreturn\u001b[0m\u001b[0;34m\u001b[0m\u001b[0;34m\u001b[0m\u001b[0m\n\u001b[0;32m---> 40\u001b[0;31m   \u001b[0;32mreturn\u001b[0m \u001b[0m_message\u001b[0m\u001b[0;34m.\u001b[0m\u001b[0mread_reply_from_input\u001b[0m\u001b[0;34m(\u001b[0m\u001b[0mrequest_id\u001b[0m\u001b[0;34m,\u001b[0m \u001b[0mtimeout_sec\u001b[0m\u001b[0;34m)\u001b[0m\u001b[0;34m\u001b[0m\u001b[0;34m\u001b[0m\u001b[0m\n\u001b[0m\u001b[1;32m     41\u001b[0m \u001b[0;34m\u001b[0m\u001b[0m\n\u001b[1;32m     42\u001b[0m \u001b[0;34m\u001b[0m\u001b[0m\n",
            "\u001b[0;32m/usr/local/lib/python3.11/dist-packages/google/colab/_message.py\u001b[0m in \u001b[0;36mread_reply_from_input\u001b[0;34m(message_id, timeout_sec)\u001b[0m\n\u001b[1;32m     94\u001b[0m     \u001b[0mreply\u001b[0m \u001b[0;34m=\u001b[0m \u001b[0m_read_next_input_message\u001b[0m\u001b[0;34m(\u001b[0m\u001b[0;34m)\u001b[0m\u001b[0;34m\u001b[0m\u001b[0;34m\u001b[0m\u001b[0m\n\u001b[1;32m     95\u001b[0m     \u001b[0;32mif\u001b[0m \u001b[0mreply\u001b[0m \u001b[0;34m==\u001b[0m \u001b[0m_NOT_READY\u001b[0m \u001b[0;32mor\u001b[0m \u001b[0;32mnot\u001b[0m \u001b[0misinstance\u001b[0m\u001b[0;34m(\u001b[0m\u001b[0mreply\u001b[0m\u001b[0;34m,\u001b[0m \u001b[0mdict\u001b[0m\u001b[0;34m)\u001b[0m\u001b[0;34m:\u001b[0m\u001b[0;34m\u001b[0m\u001b[0;34m\u001b[0m\u001b[0m\n\u001b[0;32m---> 96\u001b[0;31m       \u001b[0mtime\u001b[0m\u001b[0;34m.\u001b[0m\u001b[0msleep\u001b[0m\u001b[0;34m(\u001b[0m\u001b[0;36m0.025\u001b[0m\u001b[0;34m)\u001b[0m\u001b[0;34m\u001b[0m\u001b[0;34m\u001b[0m\u001b[0m\n\u001b[0m\u001b[1;32m     97\u001b[0m       \u001b[0;32mcontinue\u001b[0m\u001b[0;34m\u001b[0m\u001b[0;34m\u001b[0m\u001b[0m\n\u001b[1;32m     98\u001b[0m     if (\n",
            "\u001b[0;31mKeyboardInterrupt\u001b[0m: "
          ]
        }
      ]
    },
    {
      "cell_type": "code",
      "source": [
        "mp = \"/content/МП _ Достижение _ Февраль 25.xlsx\"\n",
        "df_mp = pd.read_excel(mp, sheet_name=0, header=4)\n",
        "metki = \"/content/Достижение-Метки_UTM (1).xlsx\"\n",
        "df_metki = pd.read_excel(metki, sheet_name=0, header=5)"
      ],
      "metadata": {
        "id": "S5kgV1IX8s5J",
        "colab": {
          "base_uri": "https://localhost:8080/"
        },
        "outputId": "9efdf1be-81c6-485f-cc9a-23938fb20ae7"
      },
      "execution_count": null,
      "outputs": [
        {
          "output_type": "stream",
          "name": "stderr",
          "text": [
            "/usr/local/lib/python3.11/dist-packages/openpyxl/styles/stylesheet.py:237: UserWarning: Workbook contains no default style, apply openpyxl's default\n",
            "  warn(\"Workbook contains no default style, apply openpyxl's default\")\n"
          ]
        }
      ]
    },
    {
      "cell_type": "code",
      "source": [
        "df = df_mp[['№', 'Название сайта', 'Период', 'Общая стоимость с учетом НДС и АК', 'KPI прогноз']].copy()\n",
        "df = df.replace('-', '0')"
      ],
      "metadata": {
        "id": "5__AokhsnGXo"
      },
      "execution_count": null,
      "outputs": []
    },
    {
      "cell_type": "code",
      "source": [
        "df['Категория'] = df['Название сайта'].where(df['№'].isna())\n",
        "df['Категория'] = df['Категория'].ffill()\n",
        "df = df[~(df['Период'].isna())]\n",
        "print(df)"
      ],
      "metadata": {
        "colab": {
          "base_uri": "https://localhost:8080/"
        },
        "id": "61Q-S1lIt_fm",
        "outputId": "bce16da5-9552-4030-e5d4-b1b9e763bc1c"
      },
      "execution_count": null,
      "outputs": [
        {
          "output_type": "stream",
          "name": "stdout",
          "text": [
            "     № Название сайта                   Период  \\\n",
            "1  1.0         Realty    01.02.2025-14.02.2025   \n",
            "2  2.0        2Realty    03.02.2025-09.02.2025   \n",
            "4  4.0      OneTarget  01.02.2025 - 28.02.2025   \n",
            "\n",
            "   Общая стоимость с учетом НДС и АК KPI прогноз               Категория  \n",
            "1                           342720.0           3  Тематические площадки   \n",
            "2                              100.0           1  Тематические площадки   \n",
            "4                           396180.0           0     Охватное размещение  \n"
          ]
        }
      ]
    },
    {
      "cell_type": "code",
      "source": [
        "# Функция для извлечения начальной и конечной даты\n",
        "def extract_dates(period):\n",
        "    start_date, end_date = period.split('-')\n",
        "    start_date = pd.to_datetime(start_date.strip(), format='%d.%m.%Y')\n",
        "    end_date = pd.to_datetime(end_date.strip(), format='%d.%m.%Y')\n",
        "    return start_date, end_date\n",
        "\n",
        "# Применение функции и создание новых столбцов с начальной и конечной датой\n",
        "df[['Start Date', 'End Date']] = df['Период'].apply(extract_dates).apply(pd.Series)\n",
        "\n",
        "# Функция для корректного распределения бюджета по неделям\n",
        "def calculate_budget_per_week(row):\n",
        "    start_date = row['Start Date']\n",
        "    end_date = row['End Date']\n",
        "\n",
        "    # Начинаем с первой недели, которая содержит start_date\n",
        "    week_start = start_date - pd.Timedelta(days=start_date.weekday())  # Понедельник недели, в которой start_date\n",
        "    weeks = []\n",
        "\n",
        "    while week_start <= end_date:\n",
        "        # Определяем конец недели (воскресенье)\n",
        "        week_end = week_start + pd.Timedelta(days=6)\n",
        "\n",
        "        # Если начало недели в прошлом месяце, но есть дни в текущем, берём только текущий месяц\n",
        "        if week_start.month < start_date.month:\n",
        "            week_start = start_date  # Сдвигаем начало недели на первый день периода\n",
        "\n",
        "        # Если конец недели выходит за границы периода, ограничиваем его\n",
        "        if week_end > end_date:\n",
        "            week_end = end_date\n",
        "\n",
        "        # Количество дней, попадающих в период\n",
        "        days_in_week = (week_end - week_start).days + 1\n",
        "\n",
        "        # Общие дни в периоде\n",
        "        total_days = (end_date - start_date).days + 1\n",
        "\n",
        "        # Пропорциональный бюджет\n",
        "        week_budget = row['Общая стоимость с учетом НДС и АК'] * (days_in_week / total_days)\n",
        "\n",
        "        # Добавляем данные\n",
        "        weeks.append((week_start, week_end, week_budget))\n",
        "\n",
        "        # Следующая неделя\n",
        "        week_start = week_end + pd.Timedelta(days=1)\n",
        "\n",
        "    return weeks\n",
        "\n",
        "# Применение функции для всех строк\n",
        "week_budget_data = []\n",
        "for idx, row in df.iterrows():\n",
        "    week_budget_data.extend(calculate_budget_per_week(row))\n",
        "\n",
        "# Создаём DataFrame для распределённых бюджетов по неделям\n",
        "df_week_budget = pd.DataFrame(week_budget_data, columns=['Неделя с', 'Неделя по', 'Бюджет на неделю'])\n",
        "\n",
        "# Добавляем информацию о сайте и периоде для каждой недели\n",
        "df_week_budget['№'] = np.repeat(df['№'].values, [len(calculate_budget_per_week(row)) for _, row in df.iterrows()])\n",
        "df_week_budget['Название сайта'] = np.repeat(df['Название сайта'].values, [len(calculate_budget_per_week(row)) for _, row in df.iterrows()])\n",
        "df_week_budget['Категория'] = np.repeat(df['Категория'].values, [len(calculate_budget_per_week(row)) for _, row in df.iterrows()])\n",
        "df_week_budget['KPI прогноз'] = np.repeat(df['KPI прогноз'].values, [len(calculate_budget_per_week(row)) for _, row in df.iterrows()])\n",
        "df_week_budget['Период'] = np.repeat(df['Период'].values, [len(calculate_budget_per_week(row)) for _, row in df.iterrows()])\n",
        "\n",
        "# Группировка по категории и неделе, суммирование бюджета\n",
        "df_weekly_category_budget = df_week_budget.groupby(['Категория', 'Неделя с', 'Неделя по'], as_index=False)['Бюджет на неделю'].sum()\n",
        "\n",
        "# Вывод результата\n",
        "print(df_weekly_category_budget)"
      ],
      "metadata": {
        "colab": {
          "base_uri": "https://localhost:8080/"
        },
        "id": "URKtE6pK1kKa",
        "outputId": "c3a078fb-1081-427c-d24d-25825c795af4"
      },
      "execution_count": null,
      "outputs": [
        {
          "output_type": "stream",
          "name": "stdout",
          "text": [
            "                Категория   Неделя с  Неделя по  Бюджет на неделю\n",
            "0     Охватное размещение 2025-02-01 2025-02-02      28298.571429\n",
            "1     Охватное размещение 2025-02-03 2025-02-09      99045.000000\n",
            "2     Охватное размещение 2025-02-10 2025-02-16      99045.000000\n",
            "3     Охватное размещение 2025-02-17 2025-02-23      99045.000000\n",
            "4     Охватное размещение 2025-02-24 2025-02-28      70746.428571\n",
            "5  Тематические площадки  2025-02-01 2025-02-02      48960.000000\n",
            "6  Тематические площадки  2025-02-03 2025-02-09     171460.000000\n",
            "7  Тематические площадки  2025-02-10 2025-02-14     122400.000000\n"
          ]
        }
      ]
    },
    {
      "cell_type": "code",
      "source": [
        "# --- Чтение заголовка с периодом из первой строки Excel ---\n",
        "# Считываем файл без заголовков (чтобы получить всю первую строку)\n",
        "df_raw = pd.read_excel(\"/content/Достижение-Метки_UTM (1).xlsx\", header=None)\n",
        "header_str = str(df_raw.iloc[0, 0])  # предполагается, что заголовок находится в ячейке A1\n",
        "\n",
        "# Извлекаем даты отчётного периода с помощью регулярного выражения\n",
        "match = re.search(r'Отчет за период с (\\d{4}-\\d{2}-\\d{2}) по (\\d{4}-\\d{2}-\\d{2})', header_str)\n",
        "if match:\n",
        "    report_start = pd.to_datetime(match.group(1))\n",
        "    report_end = pd.to_datetime(match.group(2))\n",
        "else:\n",
        "    raise ValueError(\"Не удалось извлечь период из заголовка!\")\n",
        "\n",
        "print(f\"Отчетный период: с {report_start.date()} по {report_end.date()}\")\n"
      ],
      "metadata": {
        "colab": {
          "base_uri": "https://localhost:8080/"
        },
        "id": "Tn0GfecDAgTG",
        "outputId": "25a07c0c-61c3-4719-b18d-eabd87e78e8e"
      },
      "execution_count": null,
      "outputs": [
        {
          "output_type": "stream",
          "name": "stdout",
          "text": [
            "Отчетный период: с 2025-02-24 по 2025-03-02\n"
          ]
        },
        {
          "output_type": "stream",
          "name": "stderr",
          "text": [
            "/usr/local/lib/python3.11/dist-packages/openpyxl/styles/stylesheet.py:237: UserWarning: Workbook contains no default style, apply openpyxl's default\n",
            "  warn(\"Workbook contains no default style, apply openpyxl's default\")\n"
          ]
        }
      ]
    },
    {
      "cell_type": "code",
      "source": [
        "# Оставляем только строки, где 'UTM Campaign' содержит 'arwm'\n",
        "df_filtered = df_metki[df_metki['UTM Campaign'].astype(str).str.contains('arwm', na=False, case=False)]\n",
        "# Удаляем строки, где 'UTM Source' содержит 'yandex_maps' или 'navigator'\n",
        "df_filtered = df_filtered[~df_filtered['UTM Source'].astype(str).isin(['yandex_maps', 'navigator'])]\n",
        "\n",
        "print(df_filtered)"
      ],
      "metadata": {
        "colab": {
          "base_uri": "https://localhost:8080/"
        },
        "id": "XDkV6b9rhANb",
        "outputId": "30fb7f95-49e7-4bca-8152-7d7f17b1bb7f"
      },
      "execution_count": null,
      "outputs": [
        {
          "output_type": "stream",
          "name": "stdout",
          "text": [
            "       UTM Source           UTM Campaign  Визиты  Посетители    Отказы  \\\n",
            "10  rtb_onetarget  arwm|dst|february2025     342         334  0.362573   \n",
            "16  rtb_onetarget     arwm|dst|march2025     108          94  0.157407   \n",
            "\n",
            "    Глубина просмотра Время на сайте  Роботность  \\\n",
            "10           2.040936       00:01:58    0.073099   \n",
            "16           1.814815       00:01:55    0.268519   \n",
            "\n",
            "    Достижения цели (Кнопка // Скачать презентацию // Клик)  \\\n",
            "10                                                  0         \n",
            "16                                                  0         \n",
            "\n",
            "    Достижения цели (Общая цель // Формы)  Достижения цели (Уникальный звонок)  \n",
            "10                                      0                                    1  \n",
            "16                                      0                                    0  \n"
          ]
        }
      ]
    },
    {
      "cell_type": "code",
      "source": [
        "\n",
        "# Преобразуем столбец \"время на сайте\" (например, \"0:01:15\") в тип timedelta\n",
        "df_filtered['Время на сайте'] = pd.to_timedelta(df_filtered['Время на сайте'])\n",
        "\n",
        "# Суммарное количество визитов и посетителей\n",
        "total_visits = df_filtered['Визиты'].sum()\n",
        "total_visitors = df_filtered['Посетители'].sum()\n",
        "\n",
        "# Считаем взвешенные средние. В качестве веса используем значение в столбце \"визиты\".\n",
        "weighted_avg_otkazy = (df_filtered['Отказы'] * df_filtered['Визиты']).sum() / total_visits\n",
        "weighted_avg_glubina = (df_filtered['Глубина просмотра'] * df_filtered['Визиты']).sum() / total_visits\n",
        "weighted_avg_robotnost = (df_filtered['Роботность'] * df_filtered['Визиты']).sum() / total_visits\n",
        "\n",
        "# Для \"время на сайте\": вычисляем общее время в секундах с учетом веса визитов\n",
        "weighted_avg_time_sec = (df_filtered['Время на сайте'].dt.total_seconds() * df_filtered['Визиты']).sum() / total_visits\n",
        "\n",
        "# Функция для форматирования секунд в строку вида H:MM:SS\n",
        "def format_seconds(total_seconds):\n",
        "    total_seconds = int(total_seconds)\n",
        "    hours = total_seconds // 3600\n",
        "    minutes = (total_seconds % 3600) // 60\n",
        "    seconds = total_seconds % 60\n",
        "    return f\"{hours}:{minutes:02d}:{seconds:02d}\"\n",
        "\n",
        "weighted_avg_time_str = format_seconds(weighted_avg_time_sec)\n",
        "\n",
        "# Форматирование показателей \"отказы\" и \"роботность\" как проценты (с двумя знаками после запятой)\n",
        "weighted_avg_otkazy = f\"{weighted_avg_otkazy * 100:.2f}%\"\n",
        "weighted_avg_robotnost = f\"{weighted_avg_robotnost *100:.2f}%\"\n",
        "\n",
        "# Собираем результаты в итоговый DataFrame\n",
        "df_summary = pd.DataFrame({\n",
        "    'визиты': [total_visits],\n",
        "    'посетители': [total_visitors],\n",
        "    'отказы': [weighted_avg_otkazy],\n",
        "    'глубина просмотра': [weighted_avg_glubina],\n",
        "    'роботность': [weighted_avg_robotnost],\n",
        "    'время на сайте': [weighted_avg_time_str]\n",
        "})\n",
        "\n",
        "print(df_summary)"
      ],
      "metadata": {
        "colab": {
          "base_uri": "https://localhost:8080/"
        },
        "outputId": "fbb07536-bdd5-44a3-cebd-fb08f79e21b0",
        "id": "NPAeQdtLbUz4"
      },
      "execution_count": null,
      "outputs": [
        {
          "output_type": "stream",
          "name": "stdout",
          "text": [
            "   визиты  посетители  отказы  глубина просмотра роботность время на сайте\n",
            "0     450         428  31.33%           1.986667     12.00%        0:01:57\n"
          ]
        }
      ]
    },
    {
      "cell_type": "code",
      "source": [
        "# Фильтруем строки, где хотя бы одна дата совпадает\n",
        "report_week_df = df_week_budget[\n",
        "    (df_week_budget['Неделя с'] == report_start) |\n",
        "    (df_week_budget['Неделя по'] == report_end) |\n",
        "    ((df_week_budget['Неделя с'] <= report_start) & (df_week_budget['Неделя по'] >= report_end))\n",
        "]\n",
        "\n",
        "# Проверяем, есть ли найденные строки\n",
        "if report_week_df.empty:\n",
        "    raise ValueError(\"Не найдена строка с нужной неделей в бюджете!\")\n",
        "\n",
        "# Извлекаем бюджет для \"Тематических площадок\" и \"Охватного размещения\"\n",
        "tp_budget = report_week_df.loc[report_week_df['Категория'] == 'Тематические площадки', 'Бюджет на неделю']\n",
        "oh_budget = report_week_df.loc[report_week_df['Категория'] == 'Охватное размещение', 'Бюджет на неделю']\n",
        "\n",
        "# Преобразуем в число (если строка есть, иначе 0)\n",
        "tp_budget = tp_budget.values[0] if not tp_budget.empty else 0\n",
        "oh_budget = oh_budget.values[0] if not oh_budget.empty else 0\n",
        "\n",
        "# Форматируем суммы в читаемый вид\n",
        "tp_budget_str = f\"{tp_budget:,.2f}\".replace(',', ' ') if tp_budget > 0 else \"0\"\n",
        "oh_budget_str = f\"{oh_budget:,.2f}\".replace(',', ' ') if oh_budget > 0 else \"0\"\n",
        "\n",
        "# Форматируем даты в нужный вид (дд.мм-дд.мм)\n",
        "report_period_str = f\"{report_start.strftime('%d.%m')}-{report_end.strftime('%d.%m')}\"\n",
        "\n",
        "# Подстановка в отчёт\n",
        "report_text = f\"\"\"\n",
        "**Медийная реклама {report_period_str}**\n",
        "\n",
        "**Тематические площадки:**\n",
        "Выполнение по бюджету плановое ({tp_budget_str} ₽ с НДС)\n",
        "Первичные обращения — { 'нет данных' }\n",
        "Целевые обращения — { 'нет данных' }\n",
        "CPL (первичных обращений) — { 'нет данных' } ₽ с НДС\n",
        "\n",
        "**Охват:**\n",
        "Выполнение по бюджету плановое ({oh_budget_str} ₽ с НДС)\n",
        "Первичные обращения — { 'нет данных' }\n",
        "Целевые обращения — { 'нет данных' }\n",
        "CPL (первичных обращений) — { 'нет данных' } ₽ с НДС\n",
        "\n",
        "**Комментарий:**\n",
        "Расход на дату — 100 %\n",
        "Отказы — {weighted_avg_otkazy_pct}\n",
        "Глубина просмотра — {weighted_avg_glubina:.2f}\n",
        "Время на сайте — {weighted_avg_time_str}\n",
        "Роботность — {weighted_avg_robotnost_pct}\n",
        "\n",
        "**Проделанные работы:**\n",
        "- Запуск РК\n",
        "- Написали площадкам по оптимизации РК\n",
        "\n",
        "**Плановые работы:**\n",
        "- Следить за динамикой открута и выполнением по ЦО\n",
        "\"\"\"\n",
        "\n",
        "print(report_text)"
      ],
      "metadata": {
        "colab": {
          "base_uri": "https://localhost:8080/"
        },
        "id": "5ORLdHivhLhN",
        "outputId": "969a0cd5-bb43-44c1-a606-698c20ab9034"
      },
      "execution_count": null,
      "outputs": [
        {
          "output_type": "stream",
          "name": "stdout",
          "text": [
            "\n",
            "**Медийная реклама 24.02-02.03**\n",
            "\n",
            "**Тематические площадки:**\n",
            "Выполнение по бюджету плановое (0 ₽ с НДС)\n",
            "Первичные обращения — нет данных\n",
            "Целевые обращения — нет данных\n",
            "CPL (первичных обращений) — нет данных ₽ с НДС\n",
            "\n",
            "**Охват:**\n",
            "Выполнение по бюджету плановое (70 746.43 ₽ с НДС)\n",
            "Первичные обращения — нет данных\n",
            "Целевые обращения — нет данных\n",
            "CPL (первичных обращений) — нет данных ₽ с НДС\n",
            "\n",
            "**Комментарий:**\n",
            "Расход на дату — 100 %\n",
            "Отказы — 31.33%\n",
            "Глубина просмотра — 1.99\n",
            "Время на сайте — 0:01:57\n",
            "Роботность — 12.00%\n",
            "\n",
            "**Проделанные работы:**\n",
            "- Запуск РК\n",
            "- Написали площадкам по оптимизации РК\n",
            "\n",
            "**Плановые работы:**\n",
            "- Следить за динамикой открута и выполнением по ЦО\n",
            "\n"
          ]
        }
      ]
    }
  ]
}